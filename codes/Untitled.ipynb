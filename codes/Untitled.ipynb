{
 "cells": [
  {
   "cell_type": "code",
   "execution_count": null,
   "metadata": {
    "collapsed": true
   },
   "outputs": [],
   "source": [
    "import pandas as pd\n",
    "import os\n",
    "\n",
    "os.chdir(\"path=\")\n",
    "\n",
    "review = pd.read_csv(\"yelp_academic_dataset_review.csv\")\n",
    "business = pd.read_csv(\"yelp_academic_dataset_business.csv\")\n",
    "\n",
    "business_nc = business[business.state == \"b'NC'\"]\n",
    "nc_bus_id = list(business_nc[\"business_id\"])\n",
    "\n",
    "## get all the reviews for business in North Carolina\n",
    "review_nc = review[review.business_id.isin(nc_bus_id)]\n",
    "star_nc = list(review_nc.stars)\n",
    "text_nc = list(review_nc.text)\n",
    "\n",
    "import numpy as np\n",
    "# from sklearn.svm import SVC\n",
    "# from sklearn.model_selection import cross_val_score\n",
    "from sklearn.feature_selection import SelectKBest,chi2\n",
    "# import re\n",
    "import string\n",
    "from sklearn.feature_extraction.text import TfidfVectorizer\n",
    "\n",
    "text_nc_array = [text_nc[i][2:-1] for i in range(len(text_nc))]\n",
    "\n",
    "vectorizer = TfidfVectorizer(ngram_range = (1,1),analyzer=\"word\", lowercase=False)\n",
    "text_features = vectorizer.fit_transform(text_nc_array)\n",
    "vocab = vectorizer.get_feature_names()\n",
    "\n",
    "#text_features = vectorizer.transform(text_nc_array)\n",
    "fselect = SelectKBest(chi2 , k=1700)\n",
    "text_features = fselect.fit_transform(text_features,star_nc)\n",
    "text_features = text_features.toarray()\n",
    "\n",
    "import sklearn\n",
    "text_features, star_nc = sklearn.utils.shuffle(text_features, star_nc)\n",
    "\n",
    "train"
   ]
  }
 ],
 "metadata": {
  "anaconda-cloud": {},
  "kernelspec": {
   "display_name": "Python 3",
   "language": "python",
   "name": "python3"
  },
  "language_info": {
   "codemirror_mode": {
    "name": "ipython",
    "version": 3
   },
   "file_extension": ".py",
   "mimetype": "text/x-python",
   "name": "python",
   "nbconvert_exporter": "python",
   "pygments_lexer": "ipython3",
   "version": "3.5.3"
  }
 },
 "nbformat": 4,
 "nbformat_minor": 2
}
